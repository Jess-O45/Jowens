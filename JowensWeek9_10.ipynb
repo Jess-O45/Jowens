{
 "cells": [
  {
   "cell_type": "markdown",
   "id": "bc1df2c9-94b4-4563-a591-cac797b26649",
   "metadata": {},
   "source": [
    "##The Data Wrangling Workshop: Activity 7.01, page 388"
   ]
  },
  {
   "cell_type": "code",
   "execution_count": 14,
   "id": "d3390385-bc9c-4b71-a31e-f27b222d4d5e",
   "metadata": {},
   "outputs": [],
   "source": [
    "#1. Import the libraries\n",
    "\n",
    "from bs4 import BeautifulSoup\n",
    "import re\n",
    "import urllib.request, urllib.parse, urllib.error\n",
    "import requests\n",
    "import ssl\n"
   ]
  },
  {
   "cell_type": "code",
   "execution_count": 15,
   "id": "b63e2ae2-0cc0-4ad7-8f43-f0b29dc5d3ba",
   "metadata": {},
   "outputs": [],
   "source": [
    "#2. Read the HTML from the URL\n",
    "top100url = 'https://www.gutenberg.org/browse/scores/top'\n",
    "response = requests.get (top100url)"
   ]
  },
  {
   "cell_type": "code",
   "execution_count": 16,
   "id": "af4099e2-7bc5-441c-a97e-21d17126ca94",
   "metadata": {},
   "outputs": [
    {
     "name": "stdout",
     "output_type": "stream",
     "text": [
      "Success!\n"
     ]
    },
    {
     "data": {
      "text/plain": [
       "1"
      ]
     },
     "execution_count": 16,
     "metadata": {},
     "output_type": "execute_result"
    }
   ],
   "source": [
    "#3. Write a small function to check the status of the web request\n",
    "def status_check(r):\n",
    "    if r.status_code==200:\n",
    "        print(\"Success!\")\n",
    "        return 1\n",
    "    else:\n",
    "        print(\"Failed!\")\n",
    "        return -1\n",
    "\n",
    "status_check (response)"
   ]
  },
  {
   "cell_type": "code",
   "execution_count": 17,
   "id": "68350c77-3158-4b06-aaf9-f9f3aaee27b4",
   "metadata": {},
   "outputs": [],
   "source": [
    "#4. Decode the response and pass this on to BeautifulSoup for HTML parsing\n",
    "contents = response.content.decode(response.encoding)\n",
    "soup = BeautifulSoup(contents, 'html.parser')"
   ]
  },
  {
   "cell_type": "code",
   "execution_count": 23,
   "id": "39d5bbaf-2b73-4a85-8619-15f91fe70543",
   "metadata": {},
   "outputs": [
    {
     "data": {
      "text/plain": [
       "['/',\n",
       " '/about/',\n",
       " '/about/',\n",
       " '/policy/collection_development.html',\n",
       " '/about/contact_information.html',\n",
       " '/about/background/',\n",
       " '/policy/permission.html',\n",
       " '/policy/privacy_policy.html',\n",
       " '/policy/terms_of_use.html',\n",
       " '/ebooks/',\n",
       " '/ebooks/',\n",
       " '/ebooks/categories',\n",
       " '/ebooks/bookshelf/',\n",
       " '/browse/scores/top',\n",
       " '/ebooks/offline_catalogs.html',\n",
       " '/help/',\n",
       " '/help/',\n",
       " '/help/copyright.html',\n",
       " '/help/errata.html',\n",
       " '/help/file_formats.html',\n",
       " '/help/faq.html',\n",
       " '/policy/',\n",
       " '/help/public_domain_ebook_submission.html',\n",
       " '/help/submitting_your_own_work.html',\n",
       " '/help/mobile.html',\n",
       " '/attic/',\n",
       " '/donate/',\n",
       " '/donate/',\n",
       " 'pretty-pictures',\n",
       " '#books-last1']"
      ]
     },
     "execution_count": 23,
     "metadata": {},
     "output_type": "execute_result"
    }
   ],
   "source": [
    "#5. Find all href tags and store in list of links. Check what the list looks like - print first 30 \n",
    "#Create an empty list to store href tags\n",
    "hreflinks=[]\n",
    "#find all href tags and store in list\n",
    "for link in soup.find_all('a'):\n",
    "    #print(link.get('href'))\n",
    "    hreflinks.append(link.get('href'))\n",
    "#print first 30\n",
    "hreflinks[:30]\n",
    "    "
   ]
  },
  {
   "cell_type": "code",
   "execution_count": 22,
   "id": "a0d75c94-5bd3-4fbb-b0a7-2ec4983543e9",
   "metadata": {},
   "outputs": [],
   "source": [
    "#6. Use a regular expression to find the numeric digits in these links - file number for the top 100 ebooks."
   ]
  },
  {
   "cell_type": "code",
   "execution_count": null,
   "id": "00bf8f70-8cda-4986-ba02-b540eeab3679",
   "metadata": {},
   "outputs": [],
   "source": [
    "#7. Initialize an empty list to hold file number and use regex to find numeric digits in the link href string. "
   ]
  },
  {
   "cell_type": "code",
   "execution_count": null,
   "id": "bdc81f65-d679-4a41-aa3a-cea36c02bbe1",
   "metadata": {},
   "outputs": [],
   "source": [
    "#8. What does the soup objects look like? Use the .text method and print first 2k."
   ]
  },
  {
   "cell_type": "code",
   "execution_count": null,
   "id": "7d81bafd-9f6d-404b-8236-1785c18e1d78",
   "metadata": {},
   "outputs": [],
   "source": [
    "#9. Search in the extracted text from the soup object and find the names of the top 100 eBooks(from yesterdy)"
   ]
  },
  {
   "cell_type": "code",
   "execution_count": null,
   "id": "14744794-d912-469b-9b48-1867d4b71bec",
   "metadata": {},
   "outputs": [],
   "source": [
    "#10. Create a starting index. It should point at the text Top 100 ebooks yesterday. Use splitlines method of soup.text "
   ]
  },
  {
   "cell_type": "code",
   "execution_count": null,
   "id": "a6c5d93c-5114-4b50-8ecd-fd9c07a9486b",
   "metadata": {},
   "outputs": [],
   "source": [
    "#11. Run the for loop 1-100 to add the strings of the next 100 lines to this temporary list. "
   ]
  },
  {
   "cell_type": "code",
   "execution_count": null,
   "id": "e3d853ee-e0ad-4653-93fa-48c63ebbeedd",
   "metadata": {},
   "outputs": [],
   "source": [
    "#12. Use a reg expression to extract only text from the name strings and append it to an empty list.\n",
    "#Use match and span to find the indeces and use them. "
   ]
  },
  {
   "cell_type": "code",
   "execution_count": null,
   "id": "1c935a3b-0f2e-4219-91bf-7e4a873fc222",
   "metadata": {},
   "outputs": [],
   "source": [
    "#13. print the list of titles"
   ]
  },
  {
   "cell_type": "markdown",
   "id": "5dcc3858-be17-4c13-8242-0d830b2f11cf",
   "metadata": {},
   "source": [
    "##The Data Wrangling Workshop: Activity 7.02, page 390"
   ]
  },
  {
   "cell_type": "code",
   "execution_count": null,
   "id": "ca95721c-1e03-450d-aa65-664f9377a924",
   "metadata": {},
   "outputs": [],
   "source": [
    "#import "
   ]
  },
  {
   "cell_type": "code",
   "execution_count": null,
   "id": "8d6c28db-98ae-4f93-a1bf-0b0fa2b0af9e",
   "metadata": {},
   "outputs": [],
   "source": [
    "#load API key"
   ]
  },
  {
   "cell_type": "code",
   "execution_count": null,
   "id": "73c20d10-09a3-40ef-9e4c-d4d2ceba008d",
   "metadata": {},
   "outputs": [],
   "source": [
    "# Obtain a key and store it in a JSON file as APIkeys.json\n"
   ]
  },
  {
   "cell_type": "code",
   "execution_count": null,
   "id": "2cd81ed1-479a-4868-a7ca-efaaca64589d",
   "metadata": {},
   "outputs": [],
   "source": [
    "# Open the APIkeys.json fill"
   ]
  },
  {
   "cell_type": "code",
   "execution_count": null,
   "id": "46910982-6b47-4386-93bd-bc5abdc3ada5",
   "metadata": {},
   "outputs": [],
   "source": [
    "#Assign the OMDb portal as a string to a variable "
   ]
  },
  {
   "cell_type": "code",
   "execution_count": null,
   "id": "02ea03b7-078a-4562-bbd9-38890ea2f684",
   "metadata": {},
   "outputs": [],
   "source": [
    "#Create a variable called apikey with the last portion of the URL"
   ]
  },
  {
   "cell_type": "code",
   "execution_count": null,
   "id": "0a6cd559-a761-4053-911e-7d8f2a6e3c47",
   "metadata": {},
   "outputs": [],
   "source": [
    "#write a utility function called print_json to print the movie data from a json file"
   ]
  },
  {
   "cell_type": "code",
   "execution_count": null,
   "id": "eb857759-7f40-4f33-b561-00bafe3863a0",
   "metadata": {},
   "outputs": [],
   "source": [
    "# write a utility function to download a poster . "
   ]
  },
  {
   "cell_type": "code",
   "execution_count": null,
   "id": "db1613dc-f3ca-4407-96ee-5f84b3a1d175",
   "metadata": {},
   "outputs": [],
   "source": [
    "# Write a utility function called search_movie to search for a movie by its name, print the downloaded JSON and save the movie poster in the local folder. "
   ]
  },
  {
   "cell_type": "code",
   "execution_count": null,
   "id": "c360bdfa-dd85-4045-a117-2d8667a4aa29",
   "metadata": {},
   "outputs": [],
   "source": [
    "#Test the search_movie function by entering in Titanic"
   ]
  },
  {
   "cell_type": "code",
   "execution_count": null,
   "id": "6d3c9a5b-5ae8-41b9-a9ef-4603349dd155",
   "metadata": {},
   "outputs": [],
   "source": [
    "# Test the search_movie function by entering Random_error and retrieve data for Random_error"
   ]
  }
 ],
 "metadata": {
  "kernelspec": {
   "display_name": "Python 3 (ipykernel)",
   "language": "python",
   "name": "python3"
  },
  "language_info": {
   "codemirror_mode": {
    "name": "ipython",
    "version": 3
   },
   "file_extension": ".py",
   "mimetype": "text/x-python",
   "name": "python",
   "nbconvert_exporter": "python",
   "pygments_lexer": "ipython3",
   "version": "3.12.4"
  }
 },
 "nbformat": 4,
 "nbformat_minor": 5
}
